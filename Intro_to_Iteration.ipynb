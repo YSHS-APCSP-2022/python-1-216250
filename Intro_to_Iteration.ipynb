{
  "nbformat": 4,
  "nbformat_minor": 0,
  "metadata": {
    "colab": {
      "provenance": [],
      "include_colab_link": true
    },
    "kernelspec": {
      "name": "python3",
      "display_name": "Python 3"
    }
  },
  "cells": [
    {
      "cell_type": "markdown",
      "metadata": {
        "id": "view-in-github",
        "colab_type": "text"
      },
      "source": [
        "<a href=\"https://colab.research.google.com/github/YSHS-APCSP-2022/python-1-216250/blob/feedback/Intro_to_Iteration.ipynb\" target=\"_parent\"><img src=\"https://colab.research.google.com/assets/colab-badge.svg\" alt=\"Open In Colab\"/></a>"
      ]
    },
    {
      "cell_type": "markdown",
      "metadata": {
        "id": "vSlrMs71AChP"
      },
      "source": [
        "# For Loops: Read\n",
        "\n",
        "A lot of times it is useful to be able to repeat the same line of code multiple times. Repeating a process is called <b> iteration </b>.\n",
        "\n",
        "A common way to iterate in python is by using for loops. They have the structure seen below.\n",
        "\n",
        "```python\n",
        "for i in sampleList:\n",
        "  print(i)\n",
        "```\n",
        "Run the code below to see a for loop in action."
      ]
    },
    {
      "cell_type": "code",
      "metadata": {
        "id": "CnvgeCirCKqT",
        "outputId": "f3206447-70a9-45f8-bb3f-155c6ff9c5ea",
        "colab": {
          "base_uri": "https://localhost:8080/"
        }
      },
      "source": [
        "DaysOfWeek = ['Monday','Tuesday','Wednesday','Thursday','Friday','Saturday','Sunday']\n",
        "\n",
        "for i in DaysOfWeek:\n",
        "  print(i)"
      ],
      "execution_count": 1,
      "outputs": [
        {
          "output_type": "stream",
          "name": "stdout",
          "text": [
            "Monday\n",
            "Tuesday\n",
            "Wednesday\n",
            "Thursday\n",
            "Friday\n",
            "Saturday\n",
            "Sunday\n"
          ]
        }
      ]
    },
    {
      "cell_type": "markdown",
      "metadata": {
        "id": "jiyKdKUaCoF0"
      },
      "source": [
        "We can spice up the for loop a little bit..."
      ]
    },
    {
      "cell_type": "code",
      "metadata": {
        "id": "cs8oF8koCrq6"
      },
      "source": [
        "DaysOfWeek = ['Monday','Tuesday','Wednesday','Thursday','Friday','Saturday','Sunday']\n",
        "\n",
        "for i in DaysOfWeek:\n",
        "  print(\"Today is \" + i +\"!\")"
      ],
      "execution_count": null,
      "outputs": []
    },
    {
      "cell_type": "markdown",
      "metadata": {
        "id": "OW_Adb37U-zO"
      },
      "source": [
        "This can be useful for repeated mathematical operations! Consider the code below."
      ]
    },
    {
      "cell_type": "code",
      "metadata": {
        "id": "NLWQiG7YU9m8"
      },
      "source": [
        "numbers = [2,10,21,40]\n",
        "for i in numbers:\n",
        "  print(i*2)"
      ],
      "execution_count": null,
      "outputs": []
    },
    {
      "cell_type": "markdown",
      "metadata": {
        "id": "lX4ECleoC0Wt"
      },
      "source": [
        "# Your First For Loop: Do\n",
        "Make a for loop in the code block below that welcomes each student individually. \"Welcome Bob!, \"Welcome Tom!\"\n"
      ]
    },
    {
      "cell_type": "code",
      "metadata": {
        "id": "7gthjgwPDK9a",
        "outputId": "5c5bef27-d3a6-46c9-ecde-54f94cea0be0",
        "colab": {
          "base_uri": "https://localhost:8080/"
        }
      },
      "source": [
        "Students =[\"Yousef\",\"Kim\",\"Noah\",\"Tyree\",\"Franshellie\",\"Riley\",\"Ethan\",\"Brandon\",\"Donovan\",\"Qunicy\",\"Jorlanys\",\"Hayden\",\"Sasha\",\"Leo\",\"Evan\",\"Carter\",\"Trung\"]\n",
        "for i in Students:\n",
        "  print(\"Welcome \" + i +\"!\")\n"
      ],
      "execution_count": 3,
      "outputs": [
        {
          "output_type": "stream",
          "name": "stdout",
          "text": [
            "Welcome Yousef!\n",
            "Welcome Kim!\n",
            "Welcome Noah!\n",
            "Welcome Tyree!\n",
            "Welcome Franshellie!\n",
            "Welcome Riley!\n",
            "Welcome Ethan!\n",
            "Welcome Brandon!\n",
            "Welcome Donovan!\n",
            "Welcome Qunicy!\n",
            "Welcome Jorlanys!\n",
            "Welcome Hayden!\n",
            "Welcome Sasha!\n",
            "Welcome Leo!\n",
            "Welcome Evan!\n",
            "Welcome Carter!\n",
            "Welcome Trung!\n"
          ]
        }
      ]
    },
    {
      "cell_type": "markdown",
      "metadata": {
        "id": "XYwJaB33FBnI"
      },
      "source": [
        "#Control within the For Loop: Read\n",
        "You can include as much conditional logic as you want within in a for loop which allows you to perform different logic based on the input. Look at the below code that takes a list of ages as an input and outputs whether they can vote or not.*italicized text*\n"
      ]
    },
    {
      "cell_type": "code",
      "metadata": {
        "id": "RBEJYhRZV7qe",
        "outputId": "85950a77-5ea0-45aa-bf53-c12a0f4a8687",
        "colab": {
          "base_uri": "https://localhost:8080/"
        }
      },
      "source": [
        "ages = [12,19,14,18,45,1,17,25]\n",
        "for i in ages:\n",
        "  if i >= 18:\n",
        "    print(\"You Can Vote! Your age of \", i ,\" is greater than or equal to the voting age!\")\n",
        "\n",
        "  else:\n",
        "    print(\"You can not yet vote! Your age of \",i ,\" is less than the voting age!\" )\n"
      ],
      "execution_count": 4,
      "outputs": [
        {
          "output_type": "stream",
          "name": "stdout",
          "text": [
            "You can not yet vote! Your age of  12  is less than the voting age!\n",
            "You Can Vote! Your age of  19  is greater than or equal to the voting age!\n",
            "You can not yet vote! Your age of  14  is less than the voting age!\n",
            "You Can Vote! Your age of  18  is greater than or equal to the voting age!\n",
            "You Can Vote! Your age of  45  is greater than or equal to the voting age!\n",
            "You can not yet vote! Your age of  1  is less than the voting age!\n",
            "You can not yet vote! Your age of  17  is less than the voting age!\n",
            "You Can Vote! Your age of  25  is greater than or equal to the voting age!\n"
          ]
        }
      ]
    },
    {
      "cell_type": "markdown",
      "metadata": {
        "id": "gSBkPygpWhf3"
      },
      "source": [
        "#Control within the For Loop: Do\n",
        "Let's go back to the earlier example of welcoming individuals into the class. Keep the same for loop as before, but when you get to your name print a blank space (you can not welcome yourself to class)."
      ]
    },
    {
      "cell_type": "code",
      "metadata": {
        "id": "cidruhw4W5m6",
        "outputId": "e1edec6f-06c6-4137-9cb1-33429aa92613",
        "colab": {
          "base_uri": "https://localhost:8080/"
        }
      },
      "source": [
        "Students =[\"Yousef\",\"Kim\",\"Noah\",\"Tyree\",\"Franshellie\",\"Riley\",\"Ethan\",\"Brandon\",\"Donovan\",\"Qunicy\",\"Jorlanys\",\"Hayden\",\"Sasha\",\"Evan\"]\n",
        "for i in Students:\n",
        "  if i != \"Evan\":\n",
        "    print(\"Welcome \" + i +\"!\")"
      ],
      "execution_count": 7,
      "outputs": [
        {
          "output_type": "stream",
          "name": "stdout",
          "text": [
            "Welcome Yousef!\n",
            "Welcome Kim!\n",
            "Welcome Noah!\n",
            "Welcome Tyree!\n",
            "Welcome Franshellie!\n",
            "Welcome Riley!\n",
            "Welcome Ethan!\n",
            "Welcome Brandon!\n",
            "Welcome Donovan!\n",
            "Welcome Qunicy!\n",
            "Welcome Jorlanys!\n",
            "Welcome Hayden!\n",
            "Welcome Sasha!\n"
          ]
        }
      ]
    },
    {
      "cell_type": "markdown",
      "metadata": {
        "id": "oOdqSZxIW9Ot"
      },
      "source": [
        "# Highest Number in List Function: Do\n",
        "Create a function called HighNum() that takes 1 input numberlist and outputs the highest value in the number list. The number list is not presorted and the highest value number could be anywhere in the list. Some structural hints can be found below.\n",
        "\n",
        "1. Define the function with 1 input\n",
        "2. Make the first number in numberlist the starting maxnumber.\n",
        "``` python\n",
        "maxnumber = numberlist[0]\n",
        "```\n",
        "3. Iterate through numberlist and if the number is greater than maxnumber redefine maxnumber as that number\n",
        "4. After the code is done iterating through numberlist print maxnumber."
      ]
    },
    {
      "cell_type": "code",
      "metadata": {
        "id": "ORutdROgYCk4"
      },
      "source": [
        "numberlist = [0,4000,-100, 400,-30000,150,200,700]\n",
        "\n",
        "def HighNum(numberList):\n",
        "  maxnumber = numberlist[0]\n",
        "  for i in numberlist:\n",
        "    if i > maxnumber:\n",
        "      maxnumber = i\n",
        "\n",
        "  print(maxnumber)\n",
        "\n",
        "\n",
        "\n",
        "\n",
        "\n",
        "\n"
      ],
      "execution_count": 19,
      "outputs": []
    },
    {
      "cell_type": "code",
      "source": [
        "HighNum(numberlist)"
      ],
      "metadata": {
        "id": "0WyFyxjl-ZuV",
        "outputId": "04df2574-f7b0-4a06-929f-7cfe50cd2d1c",
        "colab": {
          "base_uri": "https://localhost:8080/"
        }
      },
      "execution_count": 20,
      "outputs": [
        {
          "output_type": "stream",
          "name": "stdout",
          "text": [
            "4000\n"
          ]
        }
      ]
    },
    {
      "cell_type": "markdown",
      "source": [
        "#Repeating Iteration a Certain Number of Times\n",
        "Sometimes you will want a certain process to repeat X number of times. This is similar to the scratch block \"Repeat X times\".\n",
        "\n",
        "i is a place holder variable and range(0,10) produces a list that starts at 0 and goes to 9 (10 items long). i the first run of the loop is set to 0, the second run of the loop is set to 1 and so on until i = 9 is run."
      ],
      "metadata": {
        "id": "zHsG_5lQKnC3"
      }
    },
    {
      "cell_type": "code",
      "metadata": {
        "id": "My6GI_bEZL2k"
      },
      "source": [
        "for i in range(0,10):\n",
        "  print(i)"
      ],
      "execution_count": null,
      "outputs": []
    },
    {
      "cell_type": "code",
      "source": [
        "for i in range(0,5):\n",
        "  print(\"Hello\")"
      ],
      "metadata": {
        "id": "0lAvluePLR7P"
      },
      "execution_count": null,
      "outputs": []
    },
    {
      "cell_type": "markdown",
      "metadata": {
        "id": "xYiHH628YyEi"
      },
      "source": [
        "#Create your own for loop: Do\n",
        "\n",
        "In the code cell below create your own for loop. It must include\n",
        "1. a for loop\n",
        "2. a conditional statement\n",
        "\n",
        "besides that sky is the limit. Below your for loop briefly explain what it does."
      ]
    },
    {
      "cell_type": "markdown",
      "metadata": {
        "id": "VFBDnN2zZLUw"
      },
      "source": [
        "#Explain your for loop here."
      ]
    },
    {
      "cell_type": "markdown",
      "metadata": {
        "id": "6GjWj9UQZVMb"
      },
      "source": []
    },
    {
      "cell_type": "code",
      "source": [],
      "metadata": {
        "id": "u_v0Em9v_-Ne"
      },
      "execution_count": null,
      "outputs": []
    }
  ]
}