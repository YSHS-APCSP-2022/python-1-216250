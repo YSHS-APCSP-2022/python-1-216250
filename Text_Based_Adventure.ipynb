{
  "nbformat": 4,
  "nbformat_minor": 0,
  "metadata": {
    "colab": {
      "provenance": [],
      "include_colab_link": true
    },
    "kernelspec": {
      "name": "python3",
      "display_name": "Python 3"
    },
    "language_info": {
      "name": "python"
    }
  },
  "cells": [
    {
      "cell_type": "markdown",
      "metadata": {
        "id": "view-in-github",
        "colab_type": "text"
      },
      "source": [
        "<a href=\"https://colab.research.google.com/github/YSHS-APCSP-2022/python-1-216250/blob/feedback/Text_Based_Adventure.ipynb\" target=\"_parent\"><img src=\"https://colab.research.google.com/assets/colab-badge.svg\" alt=\"Open In Colab\"/></a>"
      ]
    },
    {
      "cell_type": "markdown",
      "source": [
        "#Requirements for text based adventure\n",
        "1. You must have at least 3 layers of nested conditional (if/else) statements\n",
        "2. Include an element of randomness (from the random library)\n",
        "3. Include a list that is core to the text based adventure\n",
        "4. Include a function that is called within your program that takes a parameter, includes iteration (for loop) and selection (if/else statement).\n",
        "5. Commented Code.\n",
        "6. A [digital flowchart](https://docs.google.com/document/d/1p2k3wL6gzjYWBuWxwEQptmbbOZZNsQrthlC12SNtYgY/edit?usp=sharing) that follows accepted symbols for representing code."
      ],
      "metadata": {
        "id": "zpSmche7G_jy"
      }
    },
    {
      "cell_type": "code",
      "source": [
        "def welcome():\n",
        "  answer = input(\"Would you like to start the game? (yes/yes)\")\n",
        "  if answer.lower() == 'yes':\n",
        "    print(\"Welcome to the game\")"
      ],
      "metadata": {
        "id": "QLGgeC4n7cOP"
      },
      "execution_count": 17,
      "outputs": []
    }
  ]
}