{
  "nbformat": 4,
  "nbformat_minor": 0,
  "metadata": {
    "colab": {
      "provenance": [],
      "authorship_tag": "ABX9TyPn1OQyR/TZAaqvM0MPDyPJ",
      "include_colab_link": true
    },
    "kernelspec": {
      "name": "python3",
      "display_name": "Python 3"
    },
    "language_info": {
      "name": "python"
    }
  },
  "cells": [
    {
      "cell_type": "markdown",
      "metadata": {
        "id": "view-in-github",
        "colab_type": "text"
      },
      "source": [
        "<a href=\"https://colab.research.google.com/github/YSHS-APCSP-2022/python-1-216250/blob/feedback/WhileLoops.ipynb\" target=\"_parent\"><img src=\"https://colab.research.google.com/assets/colab-badge.svg\" alt=\"Open In Colab\"/></a>"
      ]
    },
    {
      "cell_type": "code",
      "execution_count": null,
      "metadata": {
        "id": "Z5kKfslAJwiy"
      },
      "outputs": [],
      "source": [
        "count = 10\n",
        "\n",
        "while count > 0:\n",
        "  print(\"Hello\")\n",
        "  count = count -1\n",
        "  print(count)"
      ]
    },
    {
      "cell_type": "code",
      "source": [
        "secret= \"clapped\"\n",
        "\n",
        "response = input(\"What is the secret password?:\")\n",
        "while response != secret:\n",
        "  print(\"That is not the password. Try again\")\n",
        "  response =input(\"What is the secret password?:\")\n",
        "\n",
        "print(\"Access Granted!\")"
      ],
      "metadata": {
        "colab": {
          "base_uri": "https://localhost:8080/"
        },
        "id": "nnRrSWKJLPL6",
        "outputId": "65618fb7-1405-415c-b73f-cc4d9147e503"
      },
      "execution_count": 3,
      "outputs": [
        {
          "output_type": "stream",
          "name": "stdout",
          "text": [
            "What is the secret password?:flannelly\n",
            "That is not the password. Try again\n",
            "What is the secret password?:fanncypacks\n",
            "That is not the password. Try again\n",
            "What is the secret password?:computers\n",
            "That is not the password. Try again\n",
            "What is the secret password?:lizards\n",
            "That is not the password. Try again\n",
            "What is the secret password?:clapped\n",
            "Access Granted!\n"
          ]
        }
      ]
    },
    {
      "cell_type": "code",
      "source": [
        "def oddCounter(number,odd):\n",
        "  for i in range(number):\n",
        "    if odd:\n",
        "      if i % 2 == 1:\n",
        "        print(i)\n",
        "\n",
        "    if odd == False and i % 2 ==0:\n",
        "      print(i)\n",
        ""
      ],
      "metadata": {
        "id": "YxA-IZfKN-3_"
      },
      "execution_count": 28,
      "outputs": []
    },
    {
      "cell_type": "code",
      "source": [
        "oddCounter(20,False)"
      ],
      "metadata": {
        "colab": {
          "base_uri": "https://localhost:8080/"
        },
        "id": "5UD1dU3QOZIi",
        "outputId": "82492e55-33b4-45a9-c9ca-cbe5f5d7bcf2"
      },
      "execution_count": 31,
      "outputs": [
        {
          "output_type": "stream",
          "name": "stdout",
          "text": [
            "0\n",
            "2\n",
            "4\n",
            "6\n",
            "8\n",
            "10\n",
            "12\n",
            "14\n",
            "16\n",
            "18\n"
          ]
        }
      ]
    },
    {
      "cell_type": "code",
      "source": [
        "def numberValidation():\n",
        "  secret = 37\n",
        "  response = input(\"number:\")\n",
        "  while int(response) != secret:\n",
        "    print(\"This is not the number\")\n",
        "    response = input(\"number:\")\n",
        "\n",
        "  print(\"Correct Number!\")"
      ],
      "metadata": {
        "id": "Xev6DS05QUFh"
      },
      "execution_count": 58,
      "outputs": []
    },
    {
      "cell_type": "code",
      "source": [
        "numberValidation()"
      ],
      "metadata": {
        "colab": {
          "base_uri": "https://localhost:8080/",
          "height": 315
        },
        "id": "_DvyhA9nRjZb",
        "outputId": "17c94632-cdea-4ea9-dfb8-5dd1caaf5eca"
      },
      "execution_count": 60,
      "outputs": [
        {
          "name": "stdout",
          "output_type": "stream",
          "text": [
            "number:thirty seven\n"
          ]
        },
        {
          "output_type": "error",
          "ename": "ValueError",
          "evalue": "ignored",
          "traceback": [
            "\u001b[0;31m---------------------------------------------------------------------------\u001b[0m",
            "\u001b[0;31mValueError\u001b[0m                                Traceback (most recent call last)",
            "\u001b[0;32m<ipython-input-60-025f736c3713>\u001b[0m in \u001b[0;36m<cell line: 1>\u001b[0;34m()\u001b[0m\n\u001b[0;32m----> 1\u001b[0;31m \u001b[0mnumberValidation\u001b[0m\u001b[0;34m(\u001b[0m\u001b[0;34m)\u001b[0m\u001b[0;34m\u001b[0m\u001b[0;34m\u001b[0m\u001b[0m\n\u001b[0m",
            "\u001b[0;32m<ipython-input-58-b55d41c513d3>\u001b[0m in \u001b[0;36mnumberValidation\u001b[0;34m()\u001b[0m\n\u001b[1;32m      2\u001b[0m   \u001b[0msecret\u001b[0m \u001b[0;34m=\u001b[0m \u001b[0;36m37\u001b[0m\u001b[0;34m\u001b[0m\u001b[0;34m\u001b[0m\u001b[0m\n\u001b[1;32m      3\u001b[0m   \u001b[0mresponse\u001b[0m \u001b[0;34m=\u001b[0m \u001b[0minput\u001b[0m\u001b[0;34m(\u001b[0m\u001b[0;34m\"number:\"\u001b[0m\u001b[0;34m)\u001b[0m\u001b[0;34m\u001b[0m\u001b[0;34m\u001b[0m\u001b[0m\n\u001b[0;32m----> 4\u001b[0;31m   \u001b[0;32mwhile\u001b[0m \u001b[0mint\u001b[0m\u001b[0;34m(\u001b[0m\u001b[0mresponse\u001b[0m\u001b[0;34m)\u001b[0m \u001b[0;34m!=\u001b[0m \u001b[0msecret\u001b[0m\u001b[0;34m:\u001b[0m\u001b[0;34m\u001b[0m\u001b[0;34m\u001b[0m\u001b[0m\n\u001b[0m\u001b[1;32m      5\u001b[0m     \u001b[0mprint\u001b[0m\u001b[0;34m(\u001b[0m\u001b[0;34m\"This is not the number\"\u001b[0m\u001b[0;34m)\u001b[0m\u001b[0;34m\u001b[0m\u001b[0;34m\u001b[0m\u001b[0m\n\u001b[1;32m      6\u001b[0m     \u001b[0mresponse\u001b[0m \u001b[0;34m=\u001b[0m \u001b[0minput\u001b[0m\u001b[0;34m(\u001b[0m\u001b[0;34m\"number:\"\u001b[0m\u001b[0;34m)\u001b[0m\u001b[0;34m\u001b[0m\u001b[0;34m\u001b[0m\u001b[0m\n",
            "\u001b[0;31mValueError\u001b[0m: invalid literal for int() with base 10: 'thirty seven'"
          ]
        }
      ]
    }
  ]
}